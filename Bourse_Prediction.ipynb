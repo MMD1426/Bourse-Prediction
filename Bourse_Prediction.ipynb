{
 "cells": [
  {
   "cell_type": "code",
   "execution_count": 82,
   "metadata": {},
   "outputs": [],
   "source": [
    "import pandas as pd\n",
    "from prophet import Prophet\n",
    "import jdatetime"
   ]
  },
  {
   "cell_type": "code",
   "execution_count": 83,
   "metadata": {},
   "outputs": [],
   "source": [
    "df = pd.read_csv('dataset.csv')"
   ]
  },
  {
   "cell_type": "code",
   "execution_count": 84,
   "metadata": {},
   "outputs": [
    {
     "data": {
      "text/html": [
       "<div>\n",
       "<style scoped>\n",
       "    .dataframe tbody tr th:only-of-type {\n",
       "        vertical-align: middle;\n",
       "    }\n",
       "\n",
       "    .dataframe tbody tr th {\n",
       "        vertical-align: top;\n",
       "    }\n",
       "\n",
       "    .dataframe thead th {\n",
       "        text-align: right;\n",
       "    }\n",
       "</style>\n",
       "<table border=\"1\" class=\"dataframe\">\n",
       "  <thead>\n",
       "    <tr style=\"text-align: right;\">\n",
       "      <th></th>\n",
       "      <th>name</th>\n",
       "      <th>dateissue</th>\n",
       "      <th>Value</th>\n",
       "    </tr>\n",
       "  </thead>\n",
       "  <tbody>\n",
       "    <tr>\n",
       "      <th>0</th>\n",
       "      <td>????</td>\n",
       "      <td>14021110</td>\n",
       "      <td>2110339.4</td>\n",
       "    </tr>\n",
       "    <tr>\n",
       "      <th>1</th>\n",
       "      <td>????</td>\n",
       "      <td>14021109</td>\n",
       "      <td>2120268.0</td>\n",
       "    </tr>\n",
       "    <tr>\n",
       "      <th>2</th>\n",
       "      <td>????</td>\n",
       "      <td>14021108</td>\n",
       "      <td>2128027.7</td>\n",
       "    </tr>\n",
       "    <tr>\n",
       "      <th>3</th>\n",
       "      <td>????</td>\n",
       "      <td>14021107</td>\n",
       "      <td>2126829.7</td>\n",
       "    </tr>\n",
       "    <tr>\n",
       "      <th>4</th>\n",
       "      <td>????</td>\n",
       "      <td>14021104</td>\n",
       "      <td>2123491.4</td>\n",
       "    </tr>\n",
       "  </tbody>\n",
       "</table>\n",
       "</div>"
      ],
      "text/plain": [
       "   name  dateissue      Value\n",
       "0  ????   14021110  2110339.4\n",
       "1  ????   14021109  2120268.0\n",
       "2  ????   14021108  2128027.7\n",
       "3  ????   14021107  2126829.7\n",
       "4  ????   14021104  2123491.4"
      ]
     },
     "execution_count": 84,
     "metadata": {},
     "output_type": "execute_result"
    }
   ],
   "source": [
    "df.head()"
   ]
  },
  {
   "cell_type": "code",
   "execution_count": 85,
   "metadata": {},
   "outputs": [],
   "source": [
    "df.drop(columns=['name'],inplace=True)"
   ]
  },
  {
   "cell_type": "code",
   "execution_count": 86,
   "metadata": {},
   "outputs": [
    {
     "data": {
      "text/plain": [
       "dateissue    0\n",
       "Value        0\n",
       "dtype: int64"
      ]
     },
     "execution_count": 86,
     "metadata": {},
     "output_type": "execute_result"
    }
   ],
   "source": [
    "df.isnull().sum()"
   ]
  },
  {
   "cell_type": "code",
   "execution_count": 87,
   "metadata": {},
   "outputs": [
    {
     "name": "stdout",
     "output_type": "stream",
     "text": [
      "<class 'pandas.core.frame.DataFrame'>\n",
      "RangeIndex: 2140 entries, 0 to 2139\n",
      "Data columns (total 2 columns):\n",
      " #   Column     Non-Null Count  Dtype  \n",
      "---  ------     --------------  -----  \n",
      " 0   dateissue  2140 non-null   int64  \n",
      " 1   Value      2140 non-null   float64\n",
      "dtypes: float64(1), int64(1)\n",
      "memory usage: 33.6 KB\n"
     ]
    }
   ],
   "source": [
    "df.info()"
   ]
  },
  {
   "cell_type": "code",
   "execution_count": 88,
   "metadata": {},
   "outputs": [],
   "source": [
    "df['dateissue'] = df['dateissue'].astype(str)"
   ]
  },
  {
   "cell_type": "code",
   "execution_count": 89,
   "metadata": {},
   "outputs": [
    {
     "name": "stdout",
     "output_type": "stream",
     "text": [
      "<class 'pandas.core.frame.DataFrame'>\n",
      "RangeIndex: 2140 entries, 0 to 2139\n",
      "Data columns (total 2 columns):\n",
      " #   Column     Non-Null Count  Dtype  \n",
      "---  ------     --------------  -----  \n",
      " 0   dateissue  2140 non-null   object \n",
      " 1   Value      2140 non-null   float64\n",
      "dtypes: float64(1), object(1)\n",
      "memory usage: 33.6+ KB\n"
     ]
    }
   ],
   "source": [
    "df.info()"
   ]
  },
  {
   "cell_type": "code",
   "execution_count": 90,
   "metadata": {},
   "outputs": [],
   "source": [
    "def convert_date(x):\n",
    "    formatted_date = f'{x[:4]}/{x[4:6]}/{x[6:8]}'\n",
    "    return formatted_date"
   ]
  },
  {
   "cell_type": "code",
   "execution_count": 91,
   "metadata": {},
   "outputs": [],
   "source": [
    "df['dateissue'] = df['dateissue'].apply(convert_date)"
   ]
  },
  {
   "cell_type": "code",
   "execution_count": 92,
   "metadata": {},
   "outputs": [
    {
     "data": {
      "text/plain": [
       "0    1402/11/10\n",
       "1    1402/11/09\n",
       "2    1402/11/08\n",
       "3    1402/11/07\n",
       "4    1402/11/04\n",
       "Name: dateissue, dtype: object"
      ]
     },
     "execution_count": 92,
     "metadata": {},
     "output_type": "execute_result"
    }
   ],
   "source": [
    "df['dateissue'].head()"
   ]
  },
  {
   "cell_type": "code",
   "execution_count": 93,
   "metadata": {},
   "outputs": [],
   "source": [
    "def convert_date_to_gregorian(x):\n",
    "    x = str(x)\n",
    "    years = x[:4]\n",
    "    months = x[5:7]\n",
    "    days = x[8:10]\n",
    "    jalili_date = jdatetime.date(int(years),int(months),int(days)).togregorian()\n",
    "    t = str(jalili_date)\n",
    "    return t"
   ]
  },
  {
   "cell_type": "code",
   "execution_count": 94,
   "metadata": {},
   "outputs": [],
   "source": [
    "df['dateissue'] = df['dateissue'].apply(convert_date_to_gregorian)"
   ]
  },
  {
   "cell_type": "code",
   "execution_count": 95,
   "metadata": {},
   "outputs": [],
   "source": [
    "df['dateissue'] = pd.to_datetime(df['dateissue'])"
   ]
  },
  {
   "cell_type": "code",
   "execution_count": 96,
   "metadata": {},
   "outputs": [
    {
     "data": {
      "text/html": [
       "<div>\n",
       "<style scoped>\n",
       "    .dataframe tbody tr th:only-of-type {\n",
       "        vertical-align: middle;\n",
       "    }\n",
       "\n",
       "    .dataframe tbody tr th {\n",
       "        vertical-align: top;\n",
       "    }\n",
       "\n",
       "    .dataframe thead th {\n",
       "        text-align: right;\n",
       "    }\n",
       "</style>\n",
       "<table border=\"1\" class=\"dataframe\">\n",
       "  <thead>\n",
       "    <tr style=\"text-align: right;\">\n",
       "      <th></th>\n",
       "      <th>ds</th>\n",
       "      <th>y</th>\n",
       "    </tr>\n",
       "  </thead>\n",
       "  <tbody>\n",
       "    <tr>\n",
       "      <th>0</th>\n",
       "      <td>2024-01-30</td>\n",
       "      <td>2110339.4</td>\n",
       "    </tr>\n",
       "    <tr>\n",
       "      <th>1</th>\n",
       "      <td>2024-01-29</td>\n",
       "      <td>2120268.0</td>\n",
       "    </tr>\n",
       "    <tr>\n",
       "      <th>2</th>\n",
       "      <td>2024-01-28</td>\n",
       "      <td>2128027.7</td>\n",
       "    </tr>\n",
       "    <tr>\n",
       "      <th>3</th>\n",
       "      <td>2024-01-27</td>\n",
       "      <td>2126829.7</td>\n",
       "    </tr>\n",
       "    <tr>\n",
       "      <th>4</th>\n",
       "      <td>2024-01-24</td>\n",
       "      <td>2123491.4</td>\n",
       "    </tr>\n",
       "    <tr>\n",
       "      <th>...</th>\n",
       "      <td>...</td>\n",
       "      <td>...</td>\n",
       "    </tr>\n",
       "    <tr>\n",
       "      <th>2135</th>\n",
       "      <td>2015-03-31</td>\n",
       "      <td>65728.0</td>\n",
       "    </tr>\n",
       "    <tr>\n",
       "      <th>2136</th>\n",
       "      <td>2015-03-30</td>\n",
       "      <td>65175.1</td>\n",
       "    </tr>\n",
       "    <tr>\n",
       "      <th>2137</th>\n",
       "      <td>2015-03-29</td>\n",
       "      <td>65099.9</td>\n",
       "    </tr>\n",
       "    <tr>\n",
       "      <th>2138</th>\n",
       "      <td>2015-03-28</td>\n",
       "      <td>63625.5</td>\n",
       "    </tr>\n",
       "    <tr>\n",
       "      <th>2139</th>\n",
       "      <td>2015-03-25</td>\n",
       "      <td>62885.0</td>\n",
       "    </tr>\n",
       "  </tbody>\n",
       "</table>\n",
       "<p>2140 rows × 2 columns</p>\n",
       "</div>"
      ],
      "text/plain": [
       "             ds          y\n",
       "0    2024-01-30  2110339.4\n",
       "1    2024-01-29  2120268.0\n",
       "2    2024-01-28  2128027.7\n",
       "3    2024-01-27  2126829.7\n",
       "4    2024-01-24  2123491.4\n",
       "...         ...        ...\n",
       "2135 2015-03-31    65728.0\n",
       "2136 2015-03-30    65175.1\n",
       "2137 2015-03-29    65099.9\n",
       "2138 2015-03-28    63625.5\n",
       "2139 2015-03-25    62885.0\n",
       "\n",
       "[2140 rows x 2 columns]"
      ]
     },
     "execution_count": 96,
     "metadata": {},
     "output_type": "execute_result"
    }
   ],
   "source": [
    "data = df[['dateissue','Value']]\n",
    "data.columns = ['ds','y']\n",
    "data"
   ]
  },
  {
   "cell_type": "code",
   "execution_count": 102,
   "metadata": {},
   "outputs": [
    {
     "name": "stderr",
     "output_type": "stream",
     "text": [
      "23:44:09 - cmdstanpy - INFO - Chain [1] start processing\n",
      "23:44:13 - cmdstanpy - INFO - Chain [1] done processing\n"
     ]
    },
    {
     "data": {
      "text/html": [
       "<div>\n",
       "<style scoped>\n",
       "    .dataframe tbody tr th:only-of-type {\n",
       "        vertical-align: middle;\n",
       "    }\n",
       "\n",
       "    .dataframe tbody tr th {\n",
       "        vertical-align: top;\n",
       "    }\n",
       "\n",
       "    .dataframe thead th {\n",
       "        text-align: right;\n",
       "    }\n",
       "</style>\n",
       "<table border=\"1\" class=\"dataframe\">\n",
       "  <thead>\n",
       "    <tr style=\"text-align: right;\">\n",
       "      <th></th>\n",
       "      <th>ds</th>\n",
       "      <th>trend</th>\n",
       "      <th>yhat_lower</th>\n",
       "      <th>yhat_upper</th>\n",
       "      <th>trend_lower</th>\n",
       "      <th>trend_upper</th>\n",
       "      <th>additive_terms</th>\n",
       "      <th>additive_terms_lower</th>\n",
       "      <th>additive_terms_upper</th>\n",
       "      <th>weekly</th>\n",
       "      <th>weekly_lower</th>\n",
       "      <th>weekly_upper</th>\n",
       "      <th>yearly</th>\n",
       "      <th>yearly_lower</th>\n",
       "      <th>yearly_upper</th>\n",
       "      <th>multiplicative_terms</th>\n",
       "      <th>multiplicative_terms_lower</th>\n",
       "      <th>multiplicative_terms_upper</th>\n",
       "      <th>yhat</th>\n",
       "    </tr>\n",
       "  </thead>\n",
       "  <tbody>\n",
       "    <tr>\n",
       "      <th>2500</th>\n",
       "      <td>2025-01-25</td>\n",
       "      <td>2.768012e+06</td>\n",
       "      <td>2.297253e+06</td>\n",
       "      <td>3.100935e+06</td>\n",
       "      <td>2.373213e+06</td>\n",
       "      <td>3.122958e+06</td>\n",
       "      <td>-50879.058647</td>\n",
       "      <td>-50879.058647</td>\n",
       "      <td>-50879.058647</td>\n",
       "      <td>3597.686656</td>\n",
       "      <td>3597.686656</td>\n",
       "      <td>3597.686656</td>\n",
       "      <td>-54476.745303</td>\n",
       "      <td>-54476.745303</td>\n",
       "      <td>-54476.745303</td>\n",
       "      <td>0.0</td>\n",
       "      <td>0.0</td>\n",
       "      <td>0.0</td>\n",
       "      <td>2.717133e+06</td>\n",
       "    </tr>\n",
       "    <tr>\n",
       "      <th>2501</th>\n",
       "      <td>2025-01-26</td>\n",
       "      <td>2.769412e+06</td>\n",
       "      <td>2.303929e+06</td>\n",
       "      <td>3.128033e+06</td>\n",
       "      <td>2.372807e+06</td>\n",
       "      <td>3.126357e+06</td>\n",
       "      <td>-51998.914264</td>\n",
       "      <td>-51998.914264</td>\n",
       "      <td>-51998.914264</td>\n",
       "      <td>3584.689589</td>\n",
       "      <td>3584.689589</td>\n",
       "      <td>3584.689589</td>\n",
       "      <td>-55583.603853</td>\n",
       "      <td>-55583.603853</td>\n",
       "      <td>-55583.603853</td>\n",
       "      <td>0.0</td>\n",
       "      <td>0.0</td>\n",
       "      <td>0.0</td>\n",
       "      <td>2.717413e+06</td>\n",
       "    </tr>\n",
       "    <tr>\n",
       "      <th>2502</th>\n",
       "      <td>2025-01-27</td>\n",
       "      <td>2.770812e+06</td>\n",
       "      <td>2.281434e+06</td>\n",
       "      <td>3.113611e+06</td>\n",
       "      <td>2.372402e+06</td>\n",
       "      <td>3.129988e+06</td>\n",
       "      <td>-52272.128915</td>\n",
       "      <td>-52272.128915</td>\n",
       "      <td>-52272.128915</td>\n",
       "      <td>4222.713418</td>\n",
       "      <td>4222.713418</td>\n",
       "      <td>4222.713418</td>\n",
       "      <td>-56494.842333</td>\n",
       "      <td>-56494.842333</td>\n",
       "      <td>-56494.842333</td>\n",
       "      <td>0.0</td>\n",
       "      <td>0.0</td>\n",
       "      <td>0.0</td>\n",
       "      <td>2.718540e+06</td>\n",
       "    </tr>\n",
       "    <tr>\n",
       "      <th>2503</th>\n",
       "      <td>2025-01-28</td>\n",
       "      <td>2.772212e+06</td>\n",
       "      <td>2.313921e+06</td>\n",
       "      <td>3.110574e+06</td>\n",
       "      <td>2.372118e+06</td>\n",
       "      <td>3.133156e+06</td>\n",
       "      <td>-52216.692153</td>\n",
       "      <td>-52216.692153</td>\n",
       "      <td>-52216.692153</td>\n",
       "      <td>4992.561662</td>\n",
       "      <td>4992.561662</td>\n",
       "      <td>4992.561662</td>\n",
       "      <td>-57209.253815</td>\n",
       "      <td>-57209.253815</td>\n",
       "      <td>-57209.253815</td>\n",
       "      <td>0.0</td>\n",
       "      <td>0.0</td>\n",
       "      <td>0.0</td>\n",
       "      <td>2.719995e+06</td>\n",
       "    </tr>\n",
       "    <tr>\n",
       "      <th>2504</th>\n",
       "      <td>2025-01-29</td>\n",
       "      <td>2.773612e+06</td>\n",
       "      <td>2.302825e+06</td>\n",
       "      <td>3.114337e+06</td>\n",
       "      <td>2.372338e+06</td>\n",
       "      <td>3.134982e+06</td>\n",
       "      <td>-52229.828750</td>\n",
       "      <td>-52229.828750</td>\n",
       "      <td>-52229.828750</td>\n",
       "      <td>5498.750739</td>\n",
       "      <td>5498.750739</td>\n",
       "      <td>5498.750739</td>\n",
       "      <td>-57728.579489</td>\n",
       "      <td>-57728.579489</td>\n",
       "      <td>-57728.579489</td>\n",
       "      <td>0.0</td>\n",
       "      <td>0.0</td>\n",
       "      <td>0.0</td>\n",
       "      <td>2.721382e+06</td>\n",
       "    </tr>\n",
       "  </tbody>\n",
       "</table>\n",
       "</div>"
      ],
      "text/plain": [
       "             ds         trend    yhat_lower    yhat_upper   trend_lower  \\\n",
       "2500 2025-01-25  2.768012e+06  2.297253e+06  3.100935e+06  2.373213e+06   \n",
       "2501 2025-01-26  2.769412e+06  2.303929e+06  3.128033e+06  2.372807e+06   \n",
       "2502 2025-01-27  2.770812e+06  2.281434e+06  3.113611e+06  2.372402e+06   \n",
       "2503 2025-01-28  2.772212e+06  2.313921e+06  3.110574e+06  2.372118e+06   \n",
       "2504 2025-01-29  2.773612e+06  2.302825e+06  3.114337e+06  2.372338e+06   \n",
       "\n",
       "       trend_upper  additive_terms  additive_terms_lower  \\\n",
       "2500  3.122958e+06   -50879.058647         -50879.058647   \n",
       "2501  3.126357e+06   -51998.914264         -51998.914264   \n",
       "2502  3.129988e+06   -52272.128915         -52272.128915   \n",
       "2503  3.133156e+06   -52216.692153         -52216.692153   \n",
       "2504  3.134982e+06   -52229.828750         -52229.828750   \n",
       "\n",
       "      additive_terms_upper       weekly  weekly_lower  weekly_upper  \\\n",
       "2500         -50879.058647  3597.686656   3597.686656   3597.686656   \n",
       "2501         -51998.914264  3584.689589   3584.689589   3584.689589   \n",
       "2502         -52272.128915  4222.713418   4222.713418   4222.713418   \n",
       "2503         -52216.692153  4992.561662   4992.561662   4992.561662   \n",
       "2504         -52229.828750  5498.750739   5498.750739   5498.750739   \n",
       "\n",
       "            yearly  yearly_lower  yearly_upper  multiplicative_terms  \\\n",
       "2500 -54476.745303 -54476.745303 -54476.745303                   0.0   \n",
       "2501 -55583.603853 -55583.603853 -55583.603853                   0.0   \n",
       "2502 -56494.842333 -56494.842333 -56494.842333                   0.0   \n",
       "2503 -57209.253815 -57209.253815 -57209.253815                   0.0   \n",
       "2504 -57728.579489 -57728.579489 -57728.579489                   0.0   \n",
       "\n",
       "      multiplicative_terms_lower  multiplicative_terms_upper          yhat  \n",
       "2500                         0.0                         0.0  2.717133e+06  \n",
       "2501                         0.0                         0.0  2.717413e+06  \n",
       "2502                         0.0                         0.0  2.718540e+06  \n",
       "2503                         0.0                         0.0  2.719995e+06  \n",
       "2504                         0.0                         0.0  2.721382e+06  "
      ]
     },
     "execution_count": 102,
     "metadata": {},
     "output_type": "execute_result"
    }
   ],
   "source": [
    "model = Prophet()\n",
    "model.fit(data)\n",
    "nextyear = model.make_future_dataframe(365)\n",
    "future_predict = model.predict(nextyear)\n",
    "future_predict.tail()"
   ]
  },
  {
   "cell_type": "code",
   "execution_count": 103,
   "metadata": {},
   "outputs": [
    {
     "name": "stderr",
     "output_type": "stream",
     "text": [
      "c:\\Users\\Elcom\\AppData\\Local\\Programs\\Python\\Python312\\Lib\\site-packages\\prophet\\plot.py:72: FutureWarning: The behavior of DatetimeProperties.to_pydatetime is deprecated, in a future version this will return a Series containing python datetime objects instead of an ndarray. To retain the old behavior, call `np.array` on the result\n",
      "  fcst_t = fcst['ds'].dt.to_pydatetime()\n",
      "c:\\Users\\Elcom\\AppData\\Local\\Programs\\Python\\Python312\\Lib\\site-packages\\prophet\\plot.py:73: FutureWarning: The behavior of DatetimeProperties.to_pydatetime is deprecated, in a future version this will return a Series containing python datetime objects instead of an ndarray. To retain the old behavior, call `np.array` on the result\n",
      "  ax.plot(m.history['ds'].dt.to_pydatetime(), m.history['y'], 'k.',\n",
      "C:\\Users\\Elcom\\AppData\\Local\\Temp\\ipykernel_8848\\3469897068.py:3: UserWarning: set_ticklabels() should only be used with a fixed number of ticks, i.e. after set_ticks() or using a FixedLocator.\n",
      "  fig.axes[0].set_xticklabels(xticks)\n",
      "C:\\Users\\Elcom\\AppData\\Local\\Temp\\ipykernel_8848\\3469897068.py:4: UserWarning: FigureCanvasAgg is non-interactive, and thus cannot be shown\n",
      "  fig.show()\n"
     ]
    },
    {
     "data": {
      "image/png": "[encoded data removed]",
      "text/plain": [
       "<Figure size 1000x600 with 1 Axes>"
      ]
     },
     "metadata": {},
     "output_type": "display_data"
    }
   ],
   "source": [
    "fig = model.plot(future_predict)\n",
    "xticks = ['2015','2016','2017','2018','2019','2020','2021','2022','2023','2024','2025']\n",
    "fig.axes[0].set_xticklabels(xticks)\n",
    "fig.show()"
   ]
  }
 ],
 "metadata": {
  "kernelspec": {
   "display_name": "Python 3",
   "language": "python",
   "name": "python3"
  },
  "language_info": {
   "codemirror_mode": {
    "name": "ipython",
    "version": 3
   },
   "file_extension": ".py",
   "mimetype": "text/x-python",
   "name": "python",
   "nbconvert_exporter": "python",
   "pygments_lexer": "ipython3",
   "version": "3.12.1"
  }
 },
 "nbformat": 4,
 "nbformat_minor": 2
}
